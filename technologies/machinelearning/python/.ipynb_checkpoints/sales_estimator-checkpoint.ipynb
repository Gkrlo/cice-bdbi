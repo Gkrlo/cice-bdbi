{
 "cells": [
  {
   "cell_type": "code",
   "execution_count": 12,
   "metadata": {},
   "outputs": [],
   "source": [
    "import pandas as pd"
   ]
  },
  {
   "cell_type": "code",
   "execution_count": 11,
   "metadata": {},
   "outputs": [
    {
     "data": {
      "text/html": [
       "<div>\n",
       "<style scoped>\n",
       "    .dataframe tbody tr th:only-of-type {\n",
       "        vertical-align: middle;\n",
       "    }\n",
       "\n",
       "    .dataframe tbody tr th {\n",
       "        vertical-align: top;\n",
       "    }\n",
       "\n",
       "    .dataframe thead th {\n",
       "        text-align: right;\n",
       "    }\n",
       "</style>\n",
       "<table border=\"1\" class=\"dataframe\">\n",
       "  <thead>\n",
       "    <tr style=\"text-align: right;\">\n",
       "      <th></th>\n",
       "      <th>companyId</th>\n",
       "      <th>totalEmployees</th>\n",
       "      <th>postalCode</th>\n",
       "      <th>activity</th>\n",
       "      <th>saleAmount</th>\n",
       "    </tr>\n",
       "  </thead>\n",
       "  <tbody>\n",
       "    <tr>\n",
       "      <th>0</th>\n",
       "      <td>A0021149J</td>\n",
       "      <td>70</td>\n",
       "      <td>28020</td>\n",
       "      <td>6629</td>\n",
       "      <td>06</td>\n",
       "    </tr>\n",
       "    <tr>\n",
       "      <th>1</th>\n",
       "      <td>A0021155G</td>\n",
       "      <td>32</td>\n",
       "      <td>28046</td>\n",
       "      <td>651</td>\n",
       "      <td>03</td>\n",
       "    </tr>\n",
       "    <tr>\n",
       "      <th>2</th>\n",
       "      <td>A0041528A</td>\n",
       "      <td>23</td>\n",
       "      <td>28760</td>\n",
       "      <td>4643</td>\n",
       "      <td>04</td>\n",
       "    </tr>\n",
       "    <tr>\n",
       "      <th>3</th>\n",
       "      <td>A0041676H</td>\n",
       "      <td>30</td>\n",
       "      <td>28006</td>\n",
       "      <td>6629</td>\n",
       "      <td>04</td>\n",
       "    </tr>\n",
       "    <tr>\n",
       "      <th>4</th>\n",
       "      <td>A0051012C</td>\n",
       "      <td>95</td>\n",
       "      <td>28046</td>\n",
       "      <td>641</td>\n",
       "      <td>03</td>\n",
       "    </tr>\n",
       "  </tbody>\n",
       "</table>\n",
       "</div>"
      ],
      "text/plain": [
       "   companyId  totalEmployees  postalCode  activity saleAmount\n",
       "0  A0021149J              70       28020      6629         06\n",
       "1  A0021155G              32       28046       651         03\n",
       "2  A0041528A              23       28760      4643         04\n",
       "3  A0041676H              30       28006      6629         04\n",
       "4  A0051012C              95       28046       641         03"
      ]
     },
     "execution_count": 11,
     "metadata": {},
     "output_type": "execute_result"
    }
   ],
   "source": [
    "def load_companies():\n",
    "    companies = pd.read_csv('../../../data/companies/companies.csv')\n",
    "    companies['companyId'] = companies['CIF']\n",
    "    companies['totalEmployees'] = companies['EMPLEADOS']\n",
    "    companies['postalCode'] = companies['CODPOSTAL']\n",
    "    companies['activity'] = companies['CNAE09']  \n",
    "    companies['saleAmount'] = companies['RANGO_VENTAS'].map(lambda x: x[:2])\n",
    "    return companies[companies.columns[18:]]\n",
    "    \n",
    "companies = load_companies()\n",
    "companies.head(5)"
   ]
  },
  {
   "cell_type": "code",
   "execution_count": null,
   "metadata": {
    "collapsed": true
   },
   "outputs": [],
   "source": []
  }
 ],
 "metadata": {
  "kernelspec": {
   "display_name": "Python 3",
   "language": "python",
   "name": "python3"
  },
  "language_info": {
   "codemirror_mode": {
    "name": "ipython",
    "version": 3
   },
   "file_extension": ".py",
   "mimetype": "text/x-python",
   "name": "python",
   "nbconvert_exporter": "python",
   "pygments_lexer": "ipython3",
   "version": "3.5.0"
  }
 },
 "nbformat": 4,
 "nbformat_minor": 2
}
